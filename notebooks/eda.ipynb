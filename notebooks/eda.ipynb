{
 "cells": [
  {
   "cell_type": "markdown",
   "metadata": {},
   "source": [
    "### Data Understanding and EDA"
   ]
  },
  {
   "cell_type": "code",
   "execution_count": 2,
   "metadata": {},
   "outputs": [],
   "source": [
    "import os\n",
    "os.chdir('..')\n",
    "import scripts.utils as utils\n",
    "import scripts.insurance_data_analysis as insurance_data_analysis"
   ]
  },
  {
   "cell_type": "markdown",
   "metadata": {},
   "source": [
    "Loading the data"
   ]
  },
  {
   "cell_type": "code",
   "execution_count": 3,
   "metadata": {},
   "outputs": [
    {
     "data": {
      "text/plain": [
       "'/home/musse/Documents/Tenx/kaim-week-3'"
      ]
     },
     "execution_count": 3,
     "metadata": {},
     "output_type": "execute_result"
    }
   ],
   "source": [
    "\n",
    "os.getcwd()\n"
   ]
  },
  {
   "cell_type": "code",
   "execution_count": 4,
   "metadata": {},
   "outputs": [
    {
     "name": "stderr",
     "output_type": "stream",
     "text": [
      "/home/musse/Documents/Tenx/kaim-week-3/scripts/utils.py:15: DtypeWarning: Columns (32,37) have mixed types. Specify dtype option on import or set low_memory=False.\n",
      "  data = pd.read_csv(input_file, delimiter='|') # Delimeter\n"
     ]
    },
    {
     "name": "stdout",
     "output_type": "stream",
     "text": [
      "File successfully converted and saved as ../data/MachineLearningRating_v3.csv\n"
     ]
    }
   ],
   "source": [
    "df = utils.load_data(\"data/MachineLearningRating_v3.txt\")"
   ]
  },
  {
   "cell_type": "code",
   "execution_count": 5,
   "metadata": {},
   "outputs": [
    {
     "data": {
      "text/html": [
       "<div>\n",
       "<style scoped>\n",
       "    .dataframe tbody tr th:only-of-type {\n",
       "        vertical-align: middle;\n",
       "    }\n",
       "\n",
       "    .dataframe tbody tr th {\n",
       "        vertical-align: top;\n",
       "    }\n",
       "\n",
       "    .dataframe thead th {\n",
       "        text-align: right;\n",
       "    }\n",
       "</style>\n",
       "<table border=\"1\" class=\"dataframe\">\n",
       "  <thead>\n",
       "    <tr style=\"text-align: right;\">\n",
       "      <th></th>\n",
       "      <th>UnderwrittenCoverID</th>\n",
       "      <th>PolicyID</th>\n",
       "      <th>TransactionMonth</th>\n",
       "      <th>IsVATRegistered</th>\n",
       "      <th>Citizenship</th>\n",
       "      <th>LegalType</th>\n",
       "      <th>Title</th>\n",
       "      <th>Language</th>\n",
       "      <th>Bank</th>\n",
       "      <th>AccountType</th>\n",
       "      <th>...</th>\n",
       "      <th>ExcessSelected</th>\n",
       "      <th>CoverCategory</th>\n",
       "      <th>CoverType</th>\n",
       "      <th>CoverGroup</th>\n",
       "      <th>Section</th>\n",
       "      <th>Product</th>\n",
       "      <th>StatutoryClass</th>\n",
       "      <th>StatutoryRiskType</th>\n",
       "      <th>TotalPremium</th>\n",
       "      <th>TotalClaims</th>\n",
       "    </tr>\n",
       "  </thead>\n",
       "  <tbody>\n",
       "    <tr>\n",
       "      <th>0</th>\n",
       "      <td>145249</td>\n",
       "      <td>12827</td>\n",
       "      <td>2015-03-01 00:00:00</td>\n",
       "      <td>True</td>\n",
       "      <td></td>\n",
       "      <td>Close Corporation</td>\n",
       "      <td>Mr</td>\n",
       "      <td>English</td>\n",
       "      <td>First National Bank</td>\n",
       "      <td>Current account</td>\n",
       "      <td>...</td>\n",
       "      <td>Mobility - Windscreen</td>\n",
       "      <td>Windscreen</td>\n",
       "      <td>Windscreen</td>\n",
       "      <td>Comprehensive - Taxi</td>\n",
       "      <td>Motor Comprehensive</td>\n",
       "      <td>Mobility Metered Taxis: Monthly</td>\n",
       "      <td>Commercial</td>\n",
       "      <td>IFRS Constant</td>\n",
       "      <td>21.929825</td>\n",
       "      <td>0.0</td>\n",
       "    </tr>\n",
       "    <tr>\n",
       "      <th>1</th>\n",
       "      <td>145249</td>\n",
       "      <td>12827</td>\n",
       "      <td>2015-05-01 00:00:00</td>\n",
       "      <td>True</td>\n",
       "      <td></td>\n",
       "      <td>Close Corporation</td>\n",
       "      <td>Mr</td>\n",
       "      <td>English</td>\n",
       "      <td>First National Bank</td>\n",
       "      <td>Current account</td>\n",
       "      <td>...</td>\n",
       "      <td>Mobility - Windscreen</td>\n",
       "      <td>Windscreen</td>\n",
       "      <td>Windscreen</td>\n",
       "      <td>Comprehensive - Taxi</td>\n",
       "      <td>Motor Comprehensive</td>\n",
       "      <td>Mobility Metered Taxis: Monthly</td>\n",
       "      <td>Commercial</td>\n",
       "      <td>IFRS Constant</td>\n",
       "      <td>21.929825</td>\n",
       "      <td>0.0</td>\n",
       "    </tr>\n",
       "    <tr>\n",
       "      <th>2</th>\n",
       "      <td>145249</td>\n",
       "      <td>12827</td>\n",
       "      <td>2015-07-01 00:00:00</td>\n",
       "      <td>True</td>\n",
       "      <td></td>\n",
       "      <td>Close Corporation</td>\n",
       "      <td>Mr</td>\n",
       "      <td>English</td>\n",
       "      <td>First National Bank</td>\n",
       "      <td>Current account</td>\n",
       "      <td>...</td>\n",
       "      <td>Mobility - Windscreen</td>\n",
       "      <td>Windscreen</td>\n",
       "      <td>Windscreen</td>\n",
       "      <td>Comprehensive - Taxi</td>\n",
       "      <td>Motor Comprehensive</td>\n",
       "      <td>Mobility Metered Taxis: Monthly</td>\n",
       "      <td>Commercial</td>\n",
       "      <td>IFRS Constant</td>\n",
       "      <td>0.000000</td>\n",
       "      <td>0.0</td>\n",
       "    </tr>\n",
       "    <tr>\n",
       "      <th>3</th>\n",
       "      <td>145255</td>\n",
       "      <td>12827</td>\n",
       "      <td>2015-05-01 00:00:00</td>\n",
       "      <td>True</td>\n",
       "      <td></td>\n",
       "      <td>Close Corporation</td>\n",
       "      <td>Mr</td>\n",
       "      <td>English</td>\n",
       "      <td>First National Bank</td>\n",
       "      <td>Current account</td>\n",
       "      <td>...</td>\n",
       "      <td>Mobility - Metered Taxis - R2000</td>\n",
       "      <td>Own damage</td>\n",
       "      <td>Own Damage</td>\n",
       "      <td>Comprehensive - Taxi</td>\n",
       "      <td>Motor Comprehensive</td>\n",
       "      <td>Mobility Metered Taxis: Monthly</td>\n",
       "      <td>Commercial</td>\n",
       "      <td>IFRS Constant</td>\n",
       "      <td>512.848070</td>\n",
       "      <td>0.0</td>\n",
       "    </tr>\n",
       "    <tr>\n",
       "      <th>4</th>\n",
       "      <td>145255</td>\n",
       "      <td>12827</td>\n",
       "      <td>2015-07-01 00:00:00</td>\n",
       "      <td>True</td>\n",
       "      <td></td>\n",
       "      <td>Close Corporation</td>\n",
       "      <td>Mr</td>\n",
       "      <td>English</td>\n",
       "      <td>First National Bank</td>\n",
       "      <td>Current account</td>\n",
       "      <td>...</td>\n",
       "      <td>Mobility - Metered Taxis - R2000</td>\n",
       "      <td>Own damage</td>\n",
       "      <td>Own Damage</td>\n",
       "      <td>Comprehensive - Taxi</td>\n",
       "      <td>Motor Comprehensive</td>\n",
       "      <td>Mobility Metered Taxis: Monthly</td>\n",
       "      <td>Commercial</td>\n",
       "      <td>IFRS Constant</td>\n",
       "      <td>0.000000</td>\n",
       "      <td>0.0</td>\n",
       "    </tr>\n",
       "  </tbody>\n",
       "</table>\n",
       "<p>5 rows × 52 columns</p>\n",
       "</div>"
      ],
      "text/plain": [
       "   UnderwrittenCoverID  PolicyID     TransactionMonth  IsVATRegistered  \\\n",
       "0               145249     12827  2015-03-01 00:00:00             True   \n",
       "1               145249     12827  2015-05-01 00:00:00             True   \n",
       "2               145249     12827  2015-07-01 00:00:00             True   \n",
       "3               145255     12827  2015-05-01 00:00:00             True   \n",
       "4               145255     12827  2015-07-01 00:00:00             True   \n",
       "\n",
       "  Citizenship          LegalType Title Language                 Bank  \\\n",
       "0              Close Corporation    Mr  English  First National Bank   \n",
       "1              Close Corporation    Mr  English  First National Bank   \n",
       "2              Close Corporation    Mr  English  First National Bank   \n",
       "3              Close Corporation    Mr  English  First National Bank   \n",
       "4              Close Corporation    Mr  English  First National Bank   \n",
       "\n",
       "       AccountType  ...                    ExcessSelected CoverCategory  \\\n",
       "0  Current account  ...             Mobility - Windscreen    Windscreen   \n",
       "1  Current account  ...             Mobility - Windscreen    Windscreen   \n",
       "2  Current account  ...             Mobility - Windscreen    Windscreen   \n",
       "3  Current account  ...  Mobility - Metered Taxis - R2000    Own damage   \n",
       "4  Current account  ...  Mobility - Metered Taxis - R2000    Own damage   \n",
       "\n",
       "    CoverType            CoverGroup              Section  \\\n",
       "0  Windscreen  Comprehensive - Taxi  Motor Comprehensive   \n",
       "1  Windscreen  Comprehensive - Taxi  Motor Comprehensive   \n",
       "2  Windscreen  Comprehensive - Taxi  Motor Comprehensive   \n",
       "3  Own Damage  Comprehensive - Taxi  Motor Comprehensive   \n",
       "4  Own Damage  Comprehensive - Taxi  Motor Comprehensive   \n",
       "\n",
       "                           Product StatutoryClass StatutoryRiskType  \\\n",
       "0  Mobility Metered Taxis: Monthly     Commercial     IFRS Constant   \n",
       "1  Mobility Metered Taxis: Monthly     Commercial     IFRS Constant   \n",
       "2  Mobility Metered Taxis: Monthly     Commercial     IFRS Constant   \n",
       "3  Mobility Metered Taxis: Monthly     Commercial     IFRS Constant   \n",
       "4  Mobility Metered Taxis: Monthly     Commercial     IFRS Constant   \n",
       "\n",
       "   TotalPremium TotalClaims  \n",
       "0     21.929825         0.0  \n",
       "1     21.929825         0.0  \n",
       "2      0.000000         0.0  \n",
       "3    512.848070         0.0  \n",
       "4      0.000000         0.0  \n",
       "\n",
       "[5 rows x 52 columns]"
      ]
     },
     "execution_count": 5,
     "metadata": {},
     "output_type": "execute_result"
    }
   ],
   "source": [
    "df.head(5)"
   ]
  },
  {
   "cell_type": "code",
   "execution_count": 6,
   "metadata": {},
   "outputs": [
    {
     "data": {
      "text/plain": [
       "(1000098, 52)"
      ]
     },
     "execution_count": 6,
     "metadata": {},
     "output_type": "execute_result"
    }
   ],
   "source": [
    "df.shape"
   ]
  },
  {
   "cell_type": "markdown",
   "metadata": {},
   "source": [
    "Cheking for null values"
   ]
  },
  {
   "cell_type": "code",
   "execution_count": 7,
   "metadata": {},
   "outputs": [
    {
     "data": {
      "text/plain": [
       "UnderwrittenCoverID               0\n",
       "PolicyID                          0\n",
       "TransactionMonth                  0\n",
       "IsVATRegistered                   0\n",
       "Citizenship                       0\n",
       "LegalType                         0\n",
       "Title                             0\n",
       "Language                          0\n",
       "Bank                         145961\n",
       "AccountType                   40232\n",
       "MaritalStatus                  8259\n",
       "Gender                         9536\n",
       "Country                           0\n",
       "Province                          0\n",
       "PostalCode                        0\n",
       "MainCrestaZone                    0\n",
       "SubCrestaZone                     0\n",
       "ItemType                          0\n",
       "mmcode                          552\n",
       "VehicleType                     552\n",
       "RegistrationYear                  0\n",
       "make                            552\n",
       "Model                           552\n",
       "Cylinders                       552\n",
       "cubiccapacity                   552\n",
       "kilowatts                       552\n",
       "bodytype                        552\n",
       "NumberOfDoors                   552\n",
       "VehicleIntroDate                552\n",
       "CustomValueEstimate          779642\n",
       "AlarmImmobiliser                  0\n",
       "TrackingDevice                    0\n",
       "CapitalOutstanding                2\n",
       "NewVehicle                   153295\n",
       "WrittenOff                   641901\n",
       "Rebuilt                      641901\n",
       "Converted                    641901\n",
       "CrossBorder                  999400\n",
       "NumberOfVehiclesInFleet     1000098\n",
       "SumInsured                        0\n",
       "TermFrequency                     0\n",
       "CalculatedPremiumPerTerm          0\n",
       "ExcessSelected                    0\n",
       "CoverCategory                     0\n",
       "CoverType                         0\n",
       "CoverGroup                        0\n",
       "Section                           0\n",
       "Product                           0\n",
       "StatutoryClass                    0\n",
       "StatutoryRiskType                 0\n",
       "TotalPremium                      0\n",
       "TotalClaims                       0\n",
       "dtype: int64"
      ]
     },
     "execution_count": 7,
     "metadata": {},
     "output_type": "execute_result"
    }
   ],
   "source": [
    "df.isnull().sum()"
   ]
  },
  {
   "cell_type": "markdown",
   "metadata": {},
   "source": [
    "It is best to drop the Bank and AccountType columns as they are not needed for the analysis and they have many missing values."
   ]
  },
  {
   "cell_type": "code",
   "execution_count": 8,
   "metadata": {},
   "outputs": [],
   "source": [
    "df.drop(columns=['Bank', 'AccountType'], inplace=True)"
   ]
  },
  {
   "cell_type": "markdown",
   "metadata": {},
   "source": [
    "Lets take a closer look at other columns that have missing values"
   ]
  },
  {
   "cell_type": "code",
   "execution_count": 9,
   "metadata": {},
   "outputs": [
    {
     "name": "stdout",
     "output_type": "stream",
     "text": [
      "MaritalStatus column has 8259 missing values\n"
     ]
    },
    {
     "data": {
      "text/plain": [
       "MaritalStatus\n",
       "Not specified    986208\n",
       "Single             4254\n",
       "Married            1377\n",
       "Name: count, dtype: int64"
      ]
     },
     "execution_count": 9,
     "metadata": {},
     "output_type": "execute_result"
    }
   ],
   "source": [
    "print(f\"MaritalStatus column has {df['MaritalStatus'].isnull().sum()} missing values\")\n",
    "df['MaritalStatus'].unique()\n",
    "df['MaritalStatus'].value_counts()"
   ]
  },
  {
   "cell_type": "code",
   "execution_count": 10,
   "metadata": {},
   "outputs": [
    {
     "name": "stdout",
     "output_type": "stream",
     "text": [
      "Gender column has 9536 missing values\n"
     ]
    },
    {
     "data": {
      "text/plain": [
       "Gender\n",
       "Not specified    940990\n",
       "Male              42817\n",
       "Female             6755\n",
       "Name: count, dtype: int64"
      ]
     },
     "execution_count": 10,
     "metadata": {},
     "output_type": "execute_result"
    }
   ],
   "source": [
    "print(f\"Gender column has {df['Gender'].isnull().sum()} missing values\")\n",
    "df['Gender'].unique()\n",
    "df['Gender'].value_counts()"
   ]
  },
  {
   "cell_type": "markdown",
   "metadata": {},
   "source": [
    "But since we will need both gender and marital status, we will need to change the null values to 'Not Specified'."
   ]
  },
  {
   "cell_type": "code",
   "execution_count": 11,
   "metadata": {},
   "outputs": [
    {
     "data": {
      "text/plain": [
       "UnderwrittenCoverID               0\n",
       "PolicyID                          0\n",
       "TransactionMonth                  0\n",
       "IsVATRegistered                   0\n",
       "Citizenship                       0\n",
       "LegalType                         0\n",
       "Title                             0\n",
       "Language                          0\n",
       "MaritalStatus                     0\n",
       "Gender                            0\n",
       "Country                           0\n",
       "Province                          0\n",
       "PostalCode                        0\n",
       "MainCrestaZone                    0\n",
       "SubCrestaZone                     0\n",
       "ItemType                          0\n",
       "mmcode                          552\n",
       "VehicleType                     552\n",
       "RegistrationYear                  0\n",
       "make                            552\n",
       "Model                           552\n",
       "Cylinders                       552\n",
       "cubiccapacity                   552\n",
       "kilowatts                       552\n",
       "bodytype                        552\n",
       "NumberOfDoors                   552\n",
       "VehicleIntroDate                552\n",
       "CustomValueEstimate          779642\n",
       "AlarmImmobiliser                  0\n",
       "TrackingDevice                    0\n",
       "CapitalOutstanding                2\n",
       "NewVehicle                   153295\n",
       "WrittenOff                   641901\n",
       "Rebuilt                      641901\n",
       "Converted                    641901\n",
       "CrossBorder                  999400\n",
       "NumberOfVehiclesInFleet     1000098\n",
       "SumInsured                        0\n",
       "TermFrequency                     0\n",
       "CalculatedPremiumPerTerm          0\n",
       "ExcessSelected                    0\n",
       "CoverCategory                     0\n",
       "CoverType                         0\n",
       "CoverGroup                        0\n",
       "Section                           0\n",
       "Product                           0\n",
       "StatutoryClass                    0\n",
       "StatutoryRiskType                 0\n",
       "TotalPremium                      0\n",
       "TotalClaims                       0\n",
       "dtype: int64"
      ]
     },
     "execution_count": 11,
     "metadata": {},
     "output_type": "execute_result"
    }
   ],
   "source": [
    "df['MaritalStatus'] = df['MaritalStatus'].fillna('Not specified')\n",
    "df['Gender'] = df['Gender'].fillna('Not specified')\n",
    "df.isnull().sum()"
   ]
  },
  {
   "cell_type": "code",
   "execution_count": 12,
   "metadata": {},
   "outputs": [
    {
     "data": {
      "text/plain": [
       "mmcode                         552\n",
       "VehicleType                    552\n",
       "make                           552\n",
       "Model                          552\n",
       "Cylinders                      552\n",
       "cubiccapacity                  552\n",
       "kilowatts                      552\n",
       "bodytype                       552\n",
       "NumberOfDoors                  552\n",
       "VehicleIntroDate               552\n",
       "CustomValueEstimate         779642\n",
       "CapitalOutstanding               2\n",
       "NewVehicle                  153295\n",
       "WrittenOff                  641901\n",
       "Rebuilt                     641901\n",
       "Converted                   641901\n",
       "CrossBorder                 999400\n",
       "NumberOfVehiclesInFleet    1000098\n",
       "dtype: int64"
      ]
     },
     "execution_count": 12,
     "metadata": {},
     "output_type": "execute_result"
    }
   ],
   "source": [
    "df.isnull().sum()[df.isnull().sum() > 0]"
   ]
  },
  {
   "cell_type": "markdown",
   "metadata": {},
   "source": [
    "As we can see above, all the missing values are from the columns about the car insured. In this case, we will drop all the rows with missing values less than 1000."
   ]
  },
  {
   "cell_type": "code",
   "execution_count": 13,
   "metadata": {},
   "outputs": [],
   "source": [
    "df.dropna(subset=['mmcode', 'VehicleType', 'make', 'Model', 'Cylinders', 'cubiccapacity', 'kilowatts','bodytype', 'NumberOfDoors', 'VehicleIntroDate','CapitalOutstanding' ], inplace=True)"
   ]
  },
  {
   "cell_type": "markdown",
   "metadata": {},
   "source": [
    "And we will drop the other columns that are not needed for the analysis."
   ]
  },
  {
   "cell_type": "code",
   "execution_count": 14,
   "metadata": {},
   "outputs": [],
   "source": [
    "df.drop(columns=['NewVehicle', 'CustomValueEstimate', 'WrittenOff', 'NewVehicle', 'Rebuilt', 'Converted', 'CrossBorder','NumberOfVehiclesInFleet'], inplace=True)"
   ]
  },
  {
   "cell_type": "code",
   "execution_count": 15,
   "metadata": {},
   "outputs": [
    {
     "data": {
      "text/plain": [
       "UnderwrittenCoverID         0\n",
       "PolicyID                    0\n",
       "TransactionMonth            0\n",
       "IsVATRegistered             0\n",
       "Citizenship                 0\n",
       "LegalType                   0\n",
       "Title                       0\n",
       "Language                    0\n",
       "MaritalStatus               0\n",
       "Gender                      0\n",
       "Country                     0\n",
       "Province                    0\n",
       "PostalCode                  0\n",
       "MainCrestaZone              0\n",
       "SubCrestaZone               0\n",
       "ItemType                    0\n",
       "mmcode                      0\n",
       "VehicleType                 0\n",
       "RegistrationYear            0\n",
       "make                        0\n",
       "Model                       0\n",
       "Cylinders                   0\n",
       "cubiccapacity               0\n",
       "kilowatts                   0\n",
       "bodytype                    0\n",
       "NumberOfDoors               0\n",
       "VehicleIntroDate            0\n",
       "AlarmImmobiliser            0\n",
       "TrackingDevice              0\n",
       "CapitalOutstanding          0\n",
       "SumInsured                  0\n",
       "TermFrequency               0\n",
       "CalculatedPremiumPerTerm    0\n",
       "ExcessSelected              0\n",
       "CoverCategory               0\n",
       "CoverType                   0\n",
       "CoverGroup                  0\n",
       "Section                     0\n",
       "Product                     0\n",
       "StatutoryClass              0\n",
       "StatutoryRiskType           0\n",
       "TotalPremium                0\n",
       "TotalClaims                 0\n",
       "dtype: int64"
      ]
     },
     "execution_count": 15,
     "metadata": {},
     "output_type": "execute_result"
    }
   ],
   "source": [
    "df.isnull().sum()"
   ]
  },
  {
   "cell_type": "code",
   "execution_count": 16,
   "metadata": {},
   "outputs": [
    {
     "data": {
      "text/plain": [
       "Index(['UnderwrittenCoverID', 'PolicyID', 'TransactionMonth',\n",
       "       'IsVATRegistered', 'Citizenship', 'LegalType', 'Title', 'Language',\n",
       "       'MaritalStatus', 'Gender', 'Country', 'Province', 'PostalCode',\n",
       "       'MainCrestaZone', 'SubCrestaZone', 'ItemType', 'mmcode', 'VehicleType',\n",
       "       'RegistrationYear', 'make', 'Model', 'Cylinders', 'cubiccapacity',\n",
       "       'kilowatts', 'bodytype', 'NumberOfDoors', 'VehicleIntroDate',\n",
       "       'AlarmImmobiliser', 'TrackingDevice', 'CapitalOutstanding',\n",
       "       'SumInsured', 'TermFrequency', 'CalculatedPremiumPerTerm',\n",
       "       'ExcessSelected', 'CoverCategory', 'CoverType', 'CoverGroup', 'Section',\n",
       "       'Product', 'StatutoryClass', 'StatutoryRiskType', 'TotalPremium',\n",
       "       'TotalClaims'],\n",
       "      dtype='object')"
      ]
     },
     "execution_count": 16,
     "metadata": {},
     "output_type": "execute_result"
    }
   ],
   "source": [
    "df.columns\n"
   ]
  },
  {
   "cell_type": "code",
   "execution_count": 17,
   "metadata": {},
   "outputs": [
    {
     "data": {
      "text/plain": [
       "array(['Gauteng', 'KwaZulu-Natal', 'Mpumalanga', 'Eastern Cape',\n",
       "       'Western Cape', 'Limpopo', 'North West', 'Free State',\n",
       "       'Northern Cape'], dtype=object)"
      ]
     },
     "execution_count": 17,
     "metadata": {},
     "output_type": "execute_result"
    }
   ],
   "source": [
    "df['Province'].unique()"
   ]
  },
  {
   "cell_type": "code",
   "execution_count": 18,
   "metadata": {},
   "outputs": [
    {
     "data": {
      "text/html": [
       "<div>\n",
       "<style scoped>\n",
       "    .dataframe tbody tr th:only-of-type {\n",
       "        vertical-align: middle;\n",
       "    }\n",
       "\n",
       "    .dataframe tbody tr th {\n",
       "        vertical-align: top;\n",
       "    }\n",
       "\n",
       "    .dataframe thead th {\n",
       "        text-align: right;\n",
       "    }\n",
       "</style>\n",
       "<table border=\"1\" class=\"dataframe\">\n",
       "  <thead>\n",
       "    <tr style=\"text-align: right;\">\n",
       "      <th></th>\n",
       "      <th>UnderwrittenCoverID</th>\n",
       "      <th>PolicyID</th>\n",
       "      <th>PostalCode</th>\n",
       "      <th>mmcode</th>\n",
       "      <th>RegistrationYear</th>\n",
       "      <th>Cylinders</th>\n",
       "      <th>cubiccapacity</th>\n",
       "      <th>kilowatts</th>\n",
       "      <th>NumberOfDoors</th>\n",
       "      <th>SumInsured</th>\n",
       "      <th>CalculatedPremiumPerTerm</th>\n",
       "      <th>TotalPremium</th>\n",
       "      <th>TotalClaims</th>\n",
       "    </tr>\n",
       "  </thead>\n",
       "  <tbody>\n",
       "    <tr>\n",
       "      <th>count</th>\n",
       "      <td>999544.000000</td>\n",
       "      <td>999544.000000</td>\n",
       "      <td>999544.000000</td>\n",
       "      <td>9.995440e+05</td>\n",
       "      <td>999544.000000</td>\n",
       "      <td>999544.000000</td>\n",
       "      <td>999544.000000</td>\n",
       "      <td>999544.000000</td>\n",
       "      <td>999544.000000</td>\n",
       "      <td>9.995440e+05</td>\n",
       "      <td>999544.000000</td>\n",
       "      <td>999544.000000</td>\n",
       "      <td>999544.000000</td>\n",
       "    </tr>\n",
       "    <tr>\n",
       "      <th>mean</th>\n",
       "      <td>104805.651873</td>\n",
       "      <td>7956.004267</td>\n",
       "      <td>3019.836643</td>\n",
       "      <td>5.487769e+07</td>\n",
       "      <td>2010.224983</td>\n",
       "      <td>4.046642</td>\n",
       "      <td>2466.743461</td>\n",
       "      <td>97.207964</td>\n",
       "      <td>4.019250</td>\n",
       "      <td>6.038605e+05</td>\n",
       "      <td>116.161425</td>\n",
       "      <td>61.372350</td>\n",
       "      <td>64.340199</td>\n",
       "    </tr>\n",
       "    <tr>\n",
       "      <th>std</th>\n",
       "      <td>63297.157788</td>\n",
       "      <td>5290.000123</td>\n",
       "      <td>2649.389643</td>\n",
       "      <td>1.360382e+07</td>\n",
       "      <td>3.261203</td>\n",
       "      <td>0.294020</td>\n",
       "      <td>442.801023</td>\n",
       "      <td>19.393250</td>\n",
       "      <td>0.468315</td>\n",
       "      <td>1.507329e+06</td>\n",
       "      <td>220.576166</td>\n",
       "      <td>157.014098</td>\n",
       "      <td>2369.567085</td>\n",
       "    </tr>\n",
       "    <tr>\n",
       "      <th>min</th>\n",
       "      <td>1.000000</td>\n",
       "      <td>14.000000</td>\n",
       "      <td>1.000000</td>\n",
       "      <td>4.041200e+06</td>\n",
       "      <td>1987.000000</td>\n",
       "      <td>0.000000</td>\n",
       "      <td>0.000000</td>\n",
       "      <td>0.000000</td>\n",
       "      <td>0.000000</td>\n",
       "      <td>1.000000e-02</td>\n",
       "      <td>0.000000</td>\n",
       "      <td>-782.576754</td>\n",
       "      <td>-12002.412281</td>\n",
       "    </tr>\n",
       "    <tr>\n",
       "      <th>25%</th>\n",
       "      <td>55128.000000</td>\n",
       "      <td>4500.000000</td>\n",
       "      <td>821.000000</td>\n",
       "      <td>6.005692e+07</td>\n",
       "      <td>2008.000000</td>\n",
       "      <td>4.000000</td>\n",
       "      <td>2237.000000</td>\n",
       "      <td>75.000000</td>\n",
       "      <td>4.000000</td>\n",
       "      <td>5.000000e+03</td>\n",
       "      <td>3.225700</td>\n",
       "      <td>0.000000</td>\n",
       "      <td>0.000000</td>\n",
       "    </tr>\n",
       "    <tr>\n",
       "      <th>50%</th>\n",
       "      <td>94073.000000</td>\n",
       "      <td>7071.000000</td>\n",
       "      <td>2000.000000</td>\n",
       "      <td>6.005842e+07</td>\n",
       "      <td>2011.000000</td>\n",
       "      <td>4.000000</td>\n",
       "      <td>2694.000000</td>\n",
       "      <td>111.000000</td>\n",
       "      <td>4.000000</td>\n",
       "      <td>7.500000e+03</td>\n",
       "      <td>8.436900</td>\n",
       "      <td>2.179737</td>\n",
       "      <td>0.000000</td>\n",
       "    </tr>\n",
       "    <tr>\n",
       "      <th>75%</th>\n",
       "      <td>139190.000000</td>\n",
       "      <td>11077.000000</td>\n",
       "      <td>4171.000000</td>\n",
       "      <td>6.005842e+07</td>\n",
       "      <td>2013.000000</td>\n",
       "      <td>4.000000</td>\n",
       "      <td>2694.000000</td>\n",
       "      <td>111.000000</td>\n",
       "      <td>4.000000</td>\n",
       "      <td>2.500000e+05</td>\n",
       "      <td>90.000000</td>\n",
       "      <td>21.929825</td>\n",
       "      <td>0.000000</td>\n",
       "    </tr>\n",
       "    <tr>\n",
       "      <th>max</th>\n",
       "      <td>301175.000000</td>\n",
       "      <td>23246.000000</td>\n",
       "      <td>9870.000000</td>\n",
       "      <td>6.506535e+07</td>\n",
       "      <td>2015.000000</td>\n",
       "      <td>10.000000</td>\n",
       "      <td>12880.000000</td>\n",
       "      <td>309.000000</td>\n",
       "      <td>6.000000</td>\n",
       "      <td>1.000000e+07</td>\n",
       "      <td>3051.821100</td>\n",
       "      <td>2253.507281</td>\n",
       "      <td>393092.105263</td>\n",
       "    </tr>\n",
       "  </tbody>\n",
       "</table>\n",
       "</div>"
      ],
      "text/plain": [
       "       UnderwrittenCoverID       PolicyID     PostalCode        mmcode  \\\n",
       "count        999544.000000  999544.000000  999544.000000  9.995440e+05   \n",
       "mean         104805.651873    7956.004267    3019.836643  5.487769e+07   \n",
       "std           63297.157788    5290.000123    2649.389643  1.360382e+07   \n",
       "min               1.000000      14.000000       1.000000  4.041200e+06   \n",
       "25%           55128.000000    4500.000000     821.000000  6.005692e+07   \n",
       "50%           94073.000000    7071.000000    2000.000000  6.005842e+07   \n",
       "75%          139190.000000   11077.000000    4171.000000  6.005842e+07   \n",
       "max          301175.000000   23246.000000    9870.000000  6.506535e+07   \n",
       "\n",
       "       RegistrationYear      Cylinders  cubiccapacity      kilowatts  \\\n",
       "count     999544.000000  999544.000000  999544.000000  999544.000000   \n",
       "mean        2010.224983       4.046642    2466.743461      97.207964   \n",
       "std            3.261203       0.294020     442.801023      19.393250   \n",
       "min         1987.000000       0.000000       0.000000       0.000000   \n",
       "25%         2008.000000       4.000000    2237.000000      75.000000   \n",
       "50%         2011.000000       4.000000    2694.000000     111.000000   \n",
       "75%         2013.000000       4.000000    2694.000000     111.000000   \n",
       "max         2015.000000      10.000000   12880.000000     309.000000   \n",
       "\n",
       "       NumberOfDoors    SumInsured  CalculatedPremiumPerTerm   TotalPremium  \\\n",
       "count  999544.000000  9.995440e+05             999544.000000  999544.000000   \n",
       "mean        4.019250  6.038605e+05                116.161425      61.372350   \n",
       "std         0.468315  1.507329e+06                220.576166     157.014098   \n",
       "min         0.000000  1.000000e-02                  0.000000    -782.576754   \n",
       "25%         4.000000  5.000000e+03                  3.225700       0.000000   \n",
       "50%         4.000000  7.500000e+03                  8.436900       2.179737   \n",
       "75%         4.000000  2.500000e+05                 90.000000      21.929825   \n",
       "max         6.000000  1.000000e+07               3051.821100    2253.507281   \n",
       "\n",
       "         TotalClaims  \n",
       "count  999544.000000  \n",
       "mean       64.340199  \n",
       "std      2369.567085  \n",
       "min    -12002.412281  \n",
       "25%         0.000000  \n",
       "50%         0.000000  \n",
       "75%         0.000000  \n",
       "max    393092.105263  "
      ]
     },
     "execution_count": 18,
     "metadata": {},
     "output_type": "execute_result"
    }
   ],
   "source": [
    "df.describe()"
   ]
  },
  {
   "cell_type": "markdown",
   "metadata": {},
   "source": [
    "As we can observe above, the data has negative values for the TotalPremium and TotalClaims columns. We will need to investigate this further."
   ]
  },
  {
   "cell_type": "code",
   "execution_count": 19,
   "metadata": {},
   "outputs": [
    {
     "name": "stdout",
     "output_type": "stream",
     "text": [
      "\n",
      "Number of negative values in TotalPremium: 286\n"
     ]
    },
    {
     "data": {
      "text/plain": [
       "array([-4.26065163e+01, -4.51127820e+01, -2.49009621e+01, -5.85738540e+01,\n",
       "       -8.04093567e+01, -3.65497076e+01, -3.07017544e+00, -5.71637427e+01,\n",
       "       -3.21637427e+00, -6.05263158e+01, -3.94736842e+01, -2.54668930e+00,\n",
       "       -2.77777778e+01, -4.29824561e+01, -3.80116959e+01, -6.84210526e+01,\n",
       "       -6.46198830e+01, -6.76691729e+01, -6.39097744e+01, -9.21052632e+01,\n",
       "       -9.64912281e+01, -7.89473684e+01, -4.82456140e+01, -4.60526316e+01,\n",
       "       -2.84497807e+02, -2.54668930e+01, -7.01403509e+00, -1.57894737e+01,\n",
       "       -7.60747029e-01, -1.96526316e+00, -3.93043860e+00, -5.89578947e+00,\n",
       "       -3.05602716e+01, -1.34583033e+01, -2.33807018e+00, -4.67596491e+00,\n",
       "       -3.02932937e+02, -7.82576754e+02, -5.75579649e+02, -1.14111036e+02,\n",
       "       -2.94786842e+02, -6.11205433e+00, -2.71511036e+00, -1.69779287e+01,\n",
       "       -4.38596491e+01, -3.50701491e+02, -1.52146010e+00, -2.28224109e+00,\n",
       "       -2.22805025e+02, -1.35755416e+02, -9.05059423e-01, -1.81005093e+00])"
      ]
     },
     "execution_count": 19,
     "metadata": {},
     "output_type": "execute_result"
    }
   ],
   "source": [
    "print(\"\\nNumber of negative values in TotalPremium:\", len(df[df['TotalPremium'] < 0]))\n",
    "df['TotalPremium'].describe()\n",
    "df[df['TotalPremium'] < 0]['TotalPremium'].unique()"
   ]
  },
  {
   "cell_type": "code",
   "execution_count": 20,
   "metadata": {},
   "outputs": [
    {
     "name": "stdout",
     "output_type": "stream",
     "text": [
      "\n",
      "Number of negative values in TotalClaims: 5\n"
     ]
    },
    {
     "data": {
      "text/plain": [
       "array([  -635.48      ,   -256.35      , -12002.4122807 ,  -5690.71929825,\n",
       "          -72.        ])"
      ]
     },
     "execution_count": 20,
     "metadata": {},
     "output_type": "execute_result"
    }
   ],
   "source": [
    "print(\"\\nNumber of negative values in TotalClaims:\", len(df[df['TotalClaims'] < 0]))\n",
    "df['TotalClaims'].describe()\n",
    "df[df['TotalClaims'] < 0]['TotalClaims'].unique()"
   ]
  },
  {
   "cell_type": "markdown",
   "metadata": {},
   "source": [
    "In order not to complicate the analysis, we will drop the rows with negative values for the TotalPremium and TotalClaims columns."
   ]
  },
  {
   "cell_type": "code",
   "execution_count": 21,
   "metadata": {},
   "outputs": [],
   "source": [
    "df.drop(df[df['TotalPremium'] < 0].index, inplace=True)"
   ]
  },
  {
   "cell_type": "code",
   "execution_count": 22,
   "metadata": {},
   "outputs": [],
   "source": [
    "df.drop(df[df['TotalClaims'] < 0].index, inplace=True)"
   ]
  },
  {
   "cell_type": "code",
   "execution_count": 23,
   "metadata": {},
   "outputs": [],
   "source": [
    "df.describe()"
   ]
  },
  {
   "cell_type": "markdown",
   "metadata": {},
   "source": [
    "#### Univariate Analysis"
   ]
  },
  {
   "cell_type": "markdown",
   "metadata": {},
   "source": [
    "Let's do some univariate analysis on the columns that are categorical."
   ]
  },
  {
   "cell_type": "code",
   "execution_count": 1,
   "metadata": {},
   "outputs": [
    {
     "ename": "SyntaxError",
     "evalue": "invalid syntax (1797750621.py, line 4)",
     "output_type": "error",
     "traceback": [
      "\u001b[0;36m  Cell \u001b[0;32mIn[1], line 4\u001b[0;36m\u001b[0m\n\u001b[0;31m    insurance_data_analysis.descriptive_statistics()a\u001b[0m\n\u001b[0m                                                    ^\u001b[0m\n\u001b[0;31mSyntaxError\u001b[0m\u001b[0;31m:\u001b[0m invalid syntax\n"
     ]
    }
   ],
   "source": [
    "#initialize the insurance data analysis class\n",
    "insurance_data_analysis = insurance_data_analysis.InsuranceDataAnalysis(df)\n",
    "#generate descriptive statistics\n",
    "insurance_data_analysis.descriptive_statistics()"
   ]
  },
  {
   "cell_type": "code",
   "execution_count": 24,
   "metadata": {},
   "outputs": [
    {
     "name": "stdout",
     "output_type": "stream",
     "text": [
      "Gender and TotalPremium\n"
     ]
    },
    {
     "data": {
      "text/html": [
       "<div>\n",
       "<style scoped>\n",
       "    .dataframe tbody tr th:only-of-type {\n",
       "        vertical-align: middle;\n",
       "    }\n",
       "\n",
       "    .dataframe tbody tr th {\n",
       "        vertical-align: top;\n",
       "    }\n",
       "\n",
       "    .dataframe thead th {\n",
       "        text-align: right;\n",
       "    }\n",
       "</style>\n",
       "<table border=\"1\" class=\"dataframe\">\n",
       "  <thead>\n",
       "    <tr style=\"text-align: right;\">\n",
       "      <th></th>\n",
       "      <th>count</th>\n",
       "      <th>mean</th>\n",
       "      <th>std</th>\n",
       "      <th>min</th>\n",
       "      <th>25%</th>\n",
       "      <th>50%</th>\n",
       "      <th>75%</th>\n",
       "      <th>max</th>\n",
       "    </tr>\n",
       "    <tr>\n",
       "      <th>Gender</th>\n",
       "      <th></th>\n",
       "      <th></th>\n",
       "      <th></th>\n",
       "      <th></th>\n",
       "      <th></th>\n",
       "      <th></th>\n",
       "      <th></th>\n",
       "      <th></th>\n",
       "    </tr>\n",
       "  </thead>\n",
       "  <tbody>\n",
       "    <tr>\n",
       "      <th>Female</th>\n",
       "      <td>6755.0</td>\n",
       "      <td>45.074841</td>\n",
       "      <td>140.912557</td>\n",
       "      <td>0.0</td>\n",
       "      <td>0.0</td>\n",
       "      <td>0.644561</td>\n",
       "      <td>5.198333</td>\n",
       "      <td>1028.579561</td>\n",
       "    </tr>\n",
       "    <tr>\n",
       "      <th>Male</th>\n",
       "      <td>42576.0</td>\n",
       "      <td>37.735306</td>\n",
       "      <td>117.465350</td>\n",
       "      <td>0.0</td>\n",
       "      <td>0.0</td>\n",
       "      <td>0.000000</td>\n",
       "      <td>5.583421</td>\n",
       "      <td>934.842281</td>\n",
       "    </tr>\n",
       "    <tr>\n",
       "      <th>Not specified</th>\n",
       "      <td>949922.0</td>\n",
       "      <td>62.598336</td>\n",
       "      <td>158.532428</td>\n",
       "      <td>0.0</td>\n",
       "      <td>0.0</td>\n",
       "      <td>2.255965</td>\n",
       "      <td>21.929825</td>\n",
       "      <td>2253.507281</td>\n",
       "    </tr>\n",
       "  </tbody>\n",
       "</table>\n",
       "</div>"
      ],
      "text/plain": [
       "                  count       mean         std  min  25%       50%        75%  \\\n",
       "Gender                                                                          \n",
       "Female           6755.0  45.074841  140.912557  0.0  0.0  0.644561   5.198333   \n",
       "Male            42576.0  37.735306  117.465350  0.0  0.0  0.000000   5.583421   \n",
       "Not specified  949922.0  62.598336  158.532428  0.0  0.0  2.255965  21.929825   \n",
       "\n",
       "                       max  \n",
       "Gender                      \n",
       "Female         1028.579561  \n",
       "Male            934.842281  \n",
       "Not specified  2253.507281  "
      ]
     },
     "execution_count": 24,
     "metadata": {},
     "output_type": "execute_result"
    }
   ],
   "source": [
    "# gender and TotalPremium\n",
    "print('Gender and TotalPremium')\n",
    "df.groupby('Gender')['TotalPremium'].describe()\n",
    "# # marital status and TotalPremium\n",
    "# df.groupby('MaritalStatus')['TotalPremium'].describe()\n",
    "# # province and TotalPremium\n",
    "# df.groupby('Province')['TotalPremium'].describe()\n",
    "# # gender and TotalClaims\n",
    "# df.groupby('Gender')['TotalClaims'].describe()\n",
    "# # marital status and TotalClaims\n",
    "# df.groupby('MaritalStatus')['TotalClaims'].describe()\n",
    "# # province and TotalClaims\n",
    "# df.groupby('Province')['TotalClaims'].describe()\n"
   ]
  },
  {
   "cell_type": "markdown",
   "metadata": {},
   "source": [
    "For the columns that are categorical, we will use label encoding. The columns mainly includes 'MaritalStatus', 'Gender' and 'Province'"
   ]
  },
  {
   "cell_type": "code",
   "execution_count": null,
   "metadata": {},
   "outputs": [],
   "source": []
  },
  {
   "cell_type": "code",
   "execution_count": 25,
   "metadata": {},
   "outputs": [
    {
     "data": {
      "text/html": [
       "<div>\n",
       "<style scoped>\n",
       "    .dataframe tbody tr th:only-of-type {\n",
       "        vertical-align: middle;\n",
       "    }\n",
       "\n",
       "    .dataframe tbody tr th {\n",
       "        vertical-align: top;\n",
       "    }\n",
       "\n",
       "    .dataframe thead th {\n",
       "        text-align: right;\n",
       "    }\n",
       "</style>\n",
       "<table border=\"1\" class=\"dataframe\">\n",
       "  <thead>\n",
       "    <tr style=\"text-align: right;\">\n",
       "      <th></th>\n",
       "      <th>UnderwrittenCoverID</th>\n",
       "      <th>PolicyID</th>\n",
       "      <th>PostalCode</th>\n",
       "      <th>mmcode</th>\n",
       "      <th>RegistrationYear</th>\n",
       "      <th>Cylinders</th>\n",
       "      <th>cubiccapacity</th>\n",
       "      <th>kilowatts</th>\n",
       "      <th>NumberOfDoors</th>\n",
       "      <th>SumInsured</th>\n",
       "      <th>CalculatedPremiumPerTerm</th>\n",
       "      <th>TotalPremium</th>\n",
       "      <th>TotalClaims</th>\n",
       "    </tr>\n",
       "  </thead>\n",
       "  <tbody>\n",
       "    <tr>\n",
       "      <th>count</th>\n",
       "      <td>999253.000000</td>\n",
       "      <td>999253.000000</td>\n",
       "      <td>999253.000000</td>\n",
       "      <td>9.992530e+05</td>\n",
       "      <td>999253.000000</td>\n",
       "      <td>999253.000000</td>\n",
       "      <td>999253.000000</td>\n",
       "      <td>999253.000000</td>\n",
       "      <td>999253.000000</td>\n",
       "      <td>9.992530e+05</td>\n",
       "      <td>999253.000000</td>\n",
       "      <td>999253.000000</td>\n",
       "      <td>999253.000000</td>\n",
       "    </tr>\n",
       "    <tr>\n",
       "      <th>mean</th>\n",
       "      <td>104829.875293</td>\n",
       "      <td>7957.823061</td>\n",
       "      <td>3019.439475</td>\n",
       "      <td>5.488212e+07</td>\n",
       "      <td>2010.224674</td>\n",
       "      <td>4.046653</td>\n",
       "      <td>2466.737279</td>\n",
       "      <td>97.206250</td>\n",
       "      <td>4.019259</td>\n",
       "      <td>6.038895e+05</td>\n",
       "      <td>116.155039</td>\n",
       "      <td>61.420516</td>\n",
       "      <td>64.377607</td>\n",
       "    </tr>\n",
       "    <tr>\n",
       "      <th>std</th>\n",
       "      <td>63282.355095</td>\n",
       "      <td>5289.103997</td>\n",
       "      <td>2649.598272</td>\n",
       "      <td>1.359715e+07</td>\n",
       "      <td>3.261510</td>\n",
       "      <td>0.294058</td>\n",
       "      <td>442.838372</td>\n",
       "      <td>19.394867</td>\n",
       "      <td>0.468374</td>\n",
       "      <td>1.507362e+06</td>\n",
       "      <td>220.573433</td>\n",
       "      <td>156.974271</td>\n",
       "      <td>2369.873974</td>\n",
       "    </tr>\n",
       "    <tr>\n",
       "      <th>min</th>\n",
       "      <td>1.000000</td>\n",
       "      <td>14.000000</td>\n",
       "      <td>1.000000</td>\n",
       "      <td>4.041200e+06</td>\n",
       "      <td>1987.000000</td>\n",
       "      <td>0.000000</td>\n",
       "      <td>0.000000</td>\n",
       "      <td>0.000000</td>\n",
       "      <td>0.000000</td>\n",
       "      <td>1.000000e-02</td>\n",
       "      <td>0.000000</td>\n",
       "      <td>0.000000</td>\n",
       "      <td>0.000000</td>\n",
       "    </tr>\n",
       "    <tr>\n",
       "      <th>25%</th>\n",
       "      <td>55150.000000</td>\n",
       "      <td>4500.000000</td>\n",
       "      <td>812.000000</td>\n",
       "      <td>6.005692e+07</td>\n",
       "      <td>2008.000000</td>\n",
       "      <td>4.000000</td>\n",
       "      <td>2237.000000</td>\n",
       "      <td>75.000000</td>\n",
       "      <td>4.000000</td>\n",
       "      <td>5.000000e+03</td>\n",
       "      <td>3.225700</td>\n",
       "      <td>0.000000</td>\n",
       "      <td>0.000000</td>\n",
       "    </tr>\n",
       "    <tr>\n",
       "      <th>50%</th>\n",
       "      <td>94087.000000</td>\n",
       "      <td>7071.000000</td>\n",
       "      <td>2000.000000</td>\n",
       "      <td>6.005842e+07</td>\n",
       "      <td>2011.000000</td>\n",
       "      <td>4.000000</td>\n",
       "      <td>2694.000000</td>\n",
       "      <td>111.000000</td>\n",
       "      <td>4.000000</td>\n",
       "      <td>7.500000e+03</td>\n",
       "      <td>8.436900</td>\n",
       "      <td>2.180175</td>\n",
       "      <td>0.000000</td>\n",
       "    </tr>\n",
       "    <tr>\n",
       "      <th>75%</th>\n",
       "      <td>139193.000000</td>\n",
       "      <td>11079.000000</td>\n",
       "      <td>4171.000000</td>\n",
       "      <td>6.005842e+07</td>\n",
       "      <td>2013.000000</td>\n",
       "      <td>4.000000</td>\n",
       "      <td>2694.000000</td>\n",
       "      <td>111.000000</td>\n",
       "      <td>4.000000</td>\n",
       "      <td>2.500000e+05</td>\n",
       "      <td>90.000000</td>\n",
       "      <td>21.929825</td>\n",
       "      <td>0.000000</td>\n",
       "    </tr>\n",
       "    <tr>\n",
       "      <th>max</th>\n",
       "      <td>301175.000000</td>\n",
       "      <td>23246.000000</td>\n",
       "      <td>9870.000000</td>\n",
       "      <td>6.506535e+07</td>\n",
       "      <td>2015.000000</td>\n",
       "      <td>10.000000</td>\n",
       "      <td>12880.000000</td>\n",
       "      <td>309.000000</td>\n",
       "      <td>6.000000</td>\n",
       "      <td>1.000000e+07</td>\n",
       "      <td>3051.821100</td>\n",
       "      <td>2253.507281</td>\n",
       "      <td>393092.105263</td>\n",
       "    </tr>\n",
       "  </tbody>\n",
       "</table>\n",
       "</div>"
      ],
      "text/plain": [
       "       UnderwrittenCoverID       PolicyID     PostalCode        mmcode  \\\n",
       "count        999253.000000  999253.000000  999253.000000  9.992530e+05   \n",
       "mean         104829.875293    7957.823061    3019.439475  5.488212e+07   \n",
       "std           63282.355095    5289.103997    2649.598272  1.359715e+07   \n",
       "min               1.000000      14.000000       1.000000  4.041200e+06   \n",
       "25%           55150.000000    4500.000000     812.000000  6.005692e+07   \n",
       "50%           94087.000000    7071.000000    2000.000000  6.005842e+07   \n",
       "75%          139193.000000   11079.000000    4171.000000  6.005842e+07   \n",
       "max          301175.000000   23246.000000    9870.000000  6.506535e+07   \n",
       "\n",
       "       RegistrationYear      Cylinders  cubiccapacity      kilowatts  \\\n",
       "count     999253.000000  999253.000000  999253.000000  999253.000000   \n",
       "mean        2010.224674       4.046653    2466.737279      97.206250   \n",
       "std            3.261510       0.294058     442.838372      19.394867   \n",
       "min         1987.000000       0.000000       0.000000       0.000000   \n",
       "25%         2008.000000       4.000000    2237.000000      75.000000   \n",
       "50%         2011.000000       4.000000    2694.000000     111.000000   \n",
       "75%         2013.000000       4.000000    2694.000000     111.000000   \n",
       "max         2015.000000      10.000000   12880.000000     309.000000   \n",
       "\n",
       "       NumberOfDoors    SumInsured  CalculatedPremiumPerTerm   TotalPremium  \\\n",
       "count  999253.000000  9.992530e+05             999253.000000  999253.000000   \n",
       "mean        4.019259  6.038895e+05                116.155039      61.420516   \n",
       "std         0.468374  1.507362e+06                220.573433     156.974271   \n",
       "min         0.000000  1.000000e-02                  0.000000       0.000000   \n",
       "25%         4.000000  5.000000e+03                  3.225700       0.000000   \n",
       "50%         4.000000  7.500000e+03                  8.436900       2.180175   \n",
       "75%         4.000000  2.500000e+05                 90.000000      21.929825   \n",
       "max         6.000000  1.000000e+07               3051.821100    2253.507281   \n",
       "\n",
       "         TotalClaims  \n",
       "count  999253.000000  \n",
       "mean       64.377607  \n",
       "std      2369.873974  \n",
       "min         0.000000  \n",
       "25%         0.000000  \n",
       "50%         0.000000  \n",
       "75%         0.000000  \n",
       "max    393092.105263  "
      ]
     },
     "execution_count": 25,
     "metadata": {},
     "output_type": "execute_result"
    }
   ],
   "source": [
    "df.describe()"
   ]
  },
  {
   "cell_type": "code",
   "execution_count": null,
   "metadata": {},
   "outputs": [],
   "source": []
  }
 ],
 "metadata": {
  "kernelspec": {
   "display_name": "venv",
   "language": "python",
   "name": "python3"
  },
  "language_info": {
   "codemirror_mode": {
    "name": "ipython",
    "version": 3
   },
   "file_extension": ".py",
   "mimetype": "text/x-python",
   "name": "python",
   "nbconvert_exporter": "python",
   "pygments_lexer": "ipython3",
   "version": "3.12.3"
  }
 },
 "nbformat": 4,
 "nbformat_minor": 2
}
